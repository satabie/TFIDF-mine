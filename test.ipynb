{
 "cells": [
  {
   "cell_type": "code",
   "execution_count": 21,
   "metadata": {},
   "outputs": [],
   "source": [
    "import numpy as np"
   ]
  },
  {
   "cell_type": "code",
   "execution_count": 1,
   "metadata": {},
   "outputs": [],
   "source": [
    "import pickle"
   ]
  },
  {
   "cell_type": "code",
   "execution_count": 11,
   "metadata": {},
   "outputs": [],
   "source": [
    "f = open(\"tfidf_model.bin\", \"rb\")\n",
    "tfidf_list = pickle.load(f)"
   ]
  },
  {
   "cell_type": "code",
   "execution_count": 12,
   "metadata": {},
   "outputs": [
    {
     "data": {
      "text/plain": [
       "{'problem': 0.031432731714151285,\n",
       " 'incred': 0.03263610691993649,\n",
       " 'cool': 0.07370163928473371,\n",
       " 'bond': 0.0779306093090493,\n",
       " 'titl': 0.028176620027330984,\n",
       " 'creat': 0.044176391952112815,\n",
       " 'superb': 0.10805796478637823,\n",
       " 'layout': 0.06459974916709271,\n",
       " 'smart': 0.07297057357712204,\n",
       " 'eye': 0.047038204667186286,\n",
       " ';': 0.029596809638246974,\n",
       " 'too': 0.06747999200611283,\n",
       " 'licens': 0.07408330670018362,\n",
       " 'well-polish': 0.10882301395091232,\n",
       " 'year': 0.02387036420682258,\n",
       " 'artifici': 0.09687220049298223,\n",
       " 'odd': 0.05947472290040424,\n",
       " 'excel': 0.03896465278188982,\n",
       " 'there': 0.017131289919115486,\n",
       " '007': 0.10183223622490949,\n",
       " 'intellig': 0.07297057357712204,\n",
       " 'nintendo': 0.0253705603618162,\n",
       " 'releas': 0.06172228386565083,\n",
       " 'unfortun': 0.04656580856049466,\n",
       " 'mission': 0.03305664921518062,\n",
       " 'right': 0.06671358230661568,\n",
       " 'competitor': 0.08722365242513011,\n",
       " 'game': 0.0014050474929177606,\n",
       " 'save': 0.03058229953203919,\n",
       " 'shooter': 0.0428119553907555,\n",
       " 'golden': 0.06597979585111921,\n",
       " 'made': 0.0257843733290497,\n",
       " 'target': 0.05232051855449548,\n",
       " 'jame': 0.08289064504097655,\n",
       " '10': 0.04610601119700911,\n",
       " 'f.e.a.r': 0.10882301395091232,\n",
       " 'coupl': 0.04300038764131051,\n",
       " 'ago': 0.05106604692893637,\n",
       " 'intellignc': 0.10882301395091232,\n",
       " 'other': 0.054391972206944854,\n",
       " 'well-execut': 0.09687220049298223,\n",
       " 'virtual': 0.05760897144108989,\n",
       " 'issu': 0.04172266398348772,\n",
       " 'action': 0.055717595168839965,\n",
       " 'ea': 0.08722365242513011,\n",
       " 'weapon': 0.02564532919393366,\n",
       " 'hand': 0.03496807322917733,\n",
       " 'enemi': 0.03945157814644806,\n",
       " 'product': 0.054391972206944854,\n",
       " 'the': 0.01598705548212249}"
      ]
     },
     "execution_count": 12,
     "metadata": {},
     "output_type": "execute_result"
    }
   ],
   "source": [
    "tfidf_list[0]"
   ]
  },
  {
   "cell_type": "code",
   "execution_count": null,
   "metadata": {},
   "outputs": [],
   "source": []
  }
 ],
 "metadata": {
  "kernelspec": {
   "display_name": "Python 3.8.0 ('.nlp')",
   "language": "python",
   "name": "python3"
  },
  "language_info": {
   "codemirror_mode": {
    "name": "ipython",
    "version": 3
   },
   "file_extension": ".py",
   "mimetype": "text/x-python",
   "name": "python",
   "nbconvert_exporter": "python",
   "pygments_lexer": "ipython3",
   "version": "3.8.0"
  },
  "orig_nbformat": 4,
  "vscode": {
   "interpreter": {
    "hash": "652d130280799452a73235126e093f1bb0db556060d9e5f327f2c01b987a47a3"
   }
  }
 },
 "nbformat": 4,
 "nbformat_minor": 2
}
